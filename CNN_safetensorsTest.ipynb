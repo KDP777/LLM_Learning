{
 "cells": [
  {
   "cell_type": "code",
   "execution_count": 5,
   "id": "b1add4d2-4ac3-48a2-a3d6-600b615b54d7",
   "metadata": {},
   "outputs": [
    {
     "name": "stdout",
     "output_type": "stream",
     "text": [
      "CNN(\n",
      "  (conv1): Sequential(\n",
      "    (0): Conv2d(1, 16, kernel_size=(5, 5), stride=(1, 1), padding=(2, 2))\n",
      "    (1): ReLU()\n",
      "    (2): MaxPool2d(kernel_size=2, stride=2, padding=0, dilation=1, ceil_mode=False)\n",
      "  )\n",
      "  (conv2): Sequential(\n",
      "    (0): Conv2d(16, 32, kernel_size=(5, 5), stride=(1, 1), padding=(2, 2))\n",
      "    (1): ReLU()\n",
      "    (2): MaxPool2d(kernel_size=2, stride=2, padding=0, dilation=1, ceil_mode=False)\n",
      "  )\n",
      "  (output): Linear(in_features=1568, out_features=10, bias=True)\n",
      ")\n"
     ]
    }
   ],
   "source": [
    "import torch\n",
    "import torch.nn as nn\n",
    "import torchvision\n",
    "import torch.utils.data as Data\n",
    "from CNN_torch import CNN\n",
    "\n",
    "cnn = CNN();\n",
    "print(cnn);"
   ]
  },
  {
   "cell_type": "code",
   "execution_count": 6,
   "id": "d88b89e7-3b80-4113-96a3-193d007231e8",
   "metadata": {},
   "outputs": [
    {
     "name": "stdout",
     "output_type": "stream",
     "text": [
      "torch.Size([60000, 28, 28])\n",
      "torch.Size([10000, 28, 28])\n"
     ]
    }
   ],
   "source": [
    "# 加载数据集\n",
    "train_data = torchvision.datasets.MNIST(\n",
    "    root = \"./minist\", #训练数据保存路径\n",
    "    train = True,      #True下载训练集，False下载测试集\n",
    "    transform = torchvision.transforms.ToTensor(), #数据范围由（0-255）压缩到（0-1）\n",
    "    download = False,  #是否需要从网上下载\n",
    ");\n",
    "\n",
    "test_data = torchvision.datasets.MNIST(\n",
    "    root = \"./minist\",  #训练数据保存路径\n",
    "    train = False,      #True下载训练集，False下载测试集\n",
    "    download = False,   #是否需要从网上下载\n",
    ");\n",
    "\n",
    "test_x = torch.unsqueeze(test_data.data, dim=1).type(torch.FloatTensor)/255;\n",
    "test_y = test_data.targets;\n",
    "\n",
    "\n",
    "print(train_data.data.size());\n",
    "print(test_data.data.size());\n",
    "\n",
    "train_loader = Data.DataLoader(dataset=train_data,batch_size = 50,shuffle = True,num_workers=3);"
   ]
  },
  {
   "cell_type": "code",
   "execution_count": 3,
   "id": "210e355e-786a-42e1-bcb1-1677aa4ca33b",
   "metadata": {},
   "outputs": [
    {
     "name": "stdout",
     "output_type": "stream",
     "text": [
      "Epoch:0\n",
      "Epoch: 0 | train loss: 2.3017 |test accuracy:0.11\n",
      "Epoch: 0 | train loss: 0.6129 |test accuracy:0.87\n",
      "Epoch: 0 | train loss: 0.2488 |test accuracy:0.92\n",
      "Epoch: 0 | train loss: 0.1313 |test accuracy:0.93\n",
      "Epoch: 0 | train loss: 0.1224 |test accuracy:0.95\n",
      "Epoch: 0 | train loss: 0.1483 |test accuracy:0.96\n",
      "Epoch: 0 | train loss: 0.1218 |test accuracy:0.96\n",
      "Epoch: 0 | train loss: 0.0983 |test accuracy:0.96\n",
      "Epoch: 0 | train loss: 0.1637 |test accuracy:0.97\n",
      "Epoch: 0 | train loss: 0.1071 |test accuracy:0.97\n",
      "Epoch: 0 | train loss: 0.1665 |test accuracy:0.97\n",
      "Epoch: 0 | train loss: 0.0577 |test accuracy:0.97\n",
      "Epoch: 0 | train loss: 0.2115 |test accuracy:0.98\n",
      "Epoch: 0 | train loss: 0.0297 |test accuracy:0.98\n",
      "Epoch: 0 | train loss: 0.2445 |test accuracy:0.97\n",
      "Epoch: 0 | train loss: 0.0925 |test accuracy:0.98\n",
      "Epoch: 0 | train loss: 0.0717 |test accuracy:0.98\n",
      "Epoch: 0 | train loss: 0.1019 |test accuracy:0.98\n",
      "Epoch: 0 | train loss: 0.1297 |test accuracy:0.98\n",
      "Epoch: 0 | train loss: 0.0497 |test accuracy:0.98\n",
      "Epoch: 0 | train loss: 0.0724 |test accuracy:0.98\n",
      "Epoch: 0 | train loss: 0.0730 |test accuracy:0.98\n",
      "Epoch: 0 | train loss: 0.0589 |test accuracy:0.98\n",
      "Epoch: 0 | train loss: 0.0371 |test accuracy:0.98\n"
     ]
    }
   ],
   "source": [
    "# 网络训练\n",
    "epoches = 1;\n",
    "learning_rate = 0.001;\n",
    "optimizer = torch.optim.Adam(cnn.parameters(),lr=learning_rate);\n",
    "loss_function = nn.CrossEntropyLoss();\n",
    "\n",
    "for epoch in range(epoches):\n",
    "    print(\"Epoch:{}\".format(epoch));\n",
    "    for step,(batch_x,batch_y) in enumerate(train_loader):\n",
    "        output = cnn(batch_x);\n",
    "        loss = loss_function(output,batch_y);\n",
    "        optimizer.zero_grad();\n",
    "        loss.backward();\n",
    "        optimizer.step();\n",
    "        # 显示准确率\n",
    "        if step%50 == 0:\n",
    "            test_output = cnn(test_x);\n",
    "            pred_y = torch.max(test_output,1)[1].data.numpy();\n",
    "            accuracy = ( (pred_y==test_y.data.numpy()).astype(int).sum() )/float(test_y.size(0));\n",
    "            print('Epoch:', epoch,'| train loss: %.4f' %loss.data.numpy(), '|test accuracy:%.2f'%accuracy);\n",
    "            \n",
    "        "
   ]
  },
  {
   "cell_type": "code",
   "execution_count": 4,
   "id": "3abd5742-8634-4a53-8cd8-b3df21f6c7e2",
   "metadata": {},
   "outputs": [
    {
     "name": "stdout",
     "output_type": "stream",
     "text": [
      "[7 2 1 0 4 1 4 9 5 9]\n",
      "tensor([7, 2, 1, 0, 4, 1, 4, 9, 5, 9])\n",
      "tensor([[ -7.0069,  -4.6992,  -3.6207,   2.4665,  -9.3556,  -7.1956, -21.5144,\n",
      "          14.1373,  -6.5343,   0.3045],\n",
      "        [  0.0349,   2.2988,   8.8746,  -4.0080, -14.3413,  -7.6535,  -2.8469,\n",
      "         -12.0265,  -0.7798, -17.1986],\n",
      "        [ -5.4009,   7.4474,  -3.1242,  -4.0476,  -0.6666,  -5.8724,  -2.3300,\n",
      "          -0.9481,  -2.4058,  -5.0741],\n",
      "        [ 11.7698, -15.4288,  -4.1998,  -8.0303,  -5.9693,  -5.7000,   0.7348,\n",
      "          -2.2754,  -5.7691,  -3.0541],\n",
      "        [ -7.2858,  -6.5362,  -6.9520,  -7.5568,  10.4149,  -9.1863,  -4.8554,\n",
      "           0.3696,  -5.1304,   0.4226],\n",
      "        [ -6.2719,   9.1625,  -4.0100,  -4.8661,  -0.6066,  -8.4387,  -4.0926,\n",
      "           0.1470,  -2.5393,  -5.2862],\n",
      "        [-15.9141,  -2.8559,  -8.1673,  -6.7774,   7.0617,  -5.8389,  -9.1579,\n",
      "          -2.6334,   0.1133,  -0.2386],\n",
      "        [-10.6646,  -2.7301,  -3.2051,  -3.7911,  -0.0337,  -2.1204,  -9.3586,\n",
      "          -3.1214,  -0.6865,   4.5923],\n",
      "        [ -7.1722, -17.9078,  -8.6952,  -9.4235,  -9.2078,   6.5765,   2.8350,\n",
      "          -7.3380,   0.0278,  -3.4201],\n",
      "        [ -8.8418, -12.6457,  -8.3580,  -3.6447,  -0.2877,  -6.6795, -14.4399,\n",
      "           2.8547,  -0.2126,   9.0704]], grad_fn=<AddmmBackward0>)\n"
     ]
    }
   ],
   "source": [
    "# 验证集结果预测\n",
    "test_output = cnn(test_x[:10]);\n",
    "pred_y = torch.max(test_output,1)[1].data.numpy().squeeze();\n",
    "print(pred_y);\n",
    "print(test_y[:10]);\n",
    "print(test_output);"
   ]
  },
  {
   "cell_type": "code",
   "execution_count": 5,
   "id": "13332dc0-7ee5-466f-9335-cccd70cd73c2",
   "metadata": {},
   "outputs": [],
   "source": [
    "from safetensors.torch import save_file\n",
    "#保存模型为safetensors格式\n",
    "save_file(cnn.state_dict(),\"./cnn_minist.safetensors\");"
   ]
  },
  {
   "cell_type": "code",
   "execution_count": 9,
   "id": "99e840a1-f4b1-47ea-b041-2952de3900f2",
   "metadata": {},
   "outputs": [
    {
     "name": "stdout",
     "output_type": "stream",
     "text": [
      "tensor([[-0.0162, -0.0056, -0.0453, -0.0206, -0.1339, -0.0519, -0.1172, -0.1251,\n",
      "         -0.0326, -0.0220],\n",
      "        [-0.1079, -0.0184, -0.0224, -0.0761, -0.1324, -0.0333, -0.0767, -0.0937,\n",
      "         -0.0043, -0.0959],\n",
      "        [-0.0459,  0.0013, -0.0158, -0.0229, -0.1018, -0.0177, -0.0878, -0.0511,\n",
      "         -0.0147, -0.0457],\n",
      "        [-0.0754, -0.0587, -0.0762, -0.0191, -0.1425, -0.0555, -0.0859, -0.0983,\n",
      "         -0.0452, -0.0286],\n",
      "        [-0.0291, -0.0405, -0.0750, -0.0415, -0.1848, -0.0662, -0.1147, -0.1425,\n",
      "         -0.0346, -0.0411],\n",
      "        [-0.0552, -0.0107, -0.0268, -0.0285, -0.1387, -0.0103, -0.0922, -0.0630,\n",
      "         -0.0164, -0.0404],\n",
      "        [-0.0513, -0.0036, -0.0806, -0.0400, -0.1628, -0.0400, -0.0959, -0.1167,\n",
      "         -0.0128, -0.0375],\n",
      "        [-0.0689, -0.0227, -0.0539, -0.0192, -0.1479, -0.0511, -0.0918, -0.1147,\n",
      "         -0.0201, -0.0028],\n",
      "        [-0.0687, -0.0338, -0.1200, -0.0929, -0.2082, -0.0536, -0.1242, -0.1105,\n",
      "         -0.0016, -0.0229],\n",
      "        [-0.0655, -0.0320, -0.0726, -0.0115, -0.1900, -0.0445, -0.0959, -0.0918,\n",
      "         -0.0148, -0.0385]], grad_fn=<AddmmBackward0>)\n"
     ]
    }
   ],
   "source": [
    "# 加载模型\n",
    "from safetensors.torch import load_file\n",
    "loaded_state_dict = load_file(\"cnn_minist.safetensors\");\n",
    "cnn.load_state_dict(loaded_state_dict);\n",
    "loadModel_output = cnn(test_x[:10]);\n",
    "print(loadModel_output);"
   ]
  },
  {
   "cell_type": "code",
   "execution_count": null,
   "id": "212eb821-7918-4f16-a5d9-7e83cb52da7a",
   "metadata": {},
   "outputs": [],
   "source": []
  }
 ],
 "metadata": {
  "kernelspec": {
   "display_name": "Python 3 (ipykernel)",
   "language": "python",
   "name": "python3"
  },
  "language_info": {
   "codemirror_mode": {
    "name": "ipython",
    "version": 3
   },
   "file_extension": ".py",
   "mimetype": "text/x-python",
   "name": "python",
   "nbconvert_exporter": "python",
   "pygments_lexer": "ipython3",
   "version": "3.12.7"
  }
 },
 "nbformat": 4,
 "nbformat_minor": 5
}
